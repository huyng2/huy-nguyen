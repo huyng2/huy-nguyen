{
 "cells": [
  {
   "cell_type": "code",
   "execution_count": 2,
   "id": "a929f1f5",
   "metadata": {},
   "outputs": [],
   "source": [
    "import numpy as np\n"
   ]
  },
  {
   "cell_type": "markdown",
   "id": "537c2dec",
   "metadata": {},
   "source": [
    "#title\n",
    "hello hello"
   ]
  },
  {
   "cell_type": "code",
   "execution_count": 3,
   "id": "9701724f",
   "metadata": {},
   "outputs": [
    {
     "data": {
      "text/plain": [
       "'hello world'"
      ]
     },
     "execution_count": 3,
     "metadata": {},
     "output_type": "execute_result"
    }
   ],
   "source": [
    "\"hello world\""
   ]
  },
  {
   "cell_type": "markdown",
   "id": "a82d0481",
   "metadata": {},
   "source": [
    "# introduction\n",
    "1. name: huy\n",
    "2. "
   ]
  },
  {
   "cell_type": "markdown",
   "id": "626164c1",
   "metadata": {},
   "source": [
    "![here is a gif](https://media.giphy.com/media/AXxFKwopNeF5HAXCIe/giphy.gif)\n",
    "[here is a gif](https://media.giphy.com/media/AXxFKwopNeF5HAXCIe/giphy.gif)"
   ]
  },
  {
   "cell_type": "code",
   "execution_count": 4,
   "id": "aeb0fc0b",
   "metadata": {},
   "outputs": [
    {
     "data": {
      "text/plain": [
       "'/Users/quanghuy/Documents/ECO 590 - R & Python'"
      ]
     },
     "execution_count": 4,
     "metadata": {},
     "output_type": "execute_result"
    }
   ],
   "source": [
    "pwd"
   ]
  },
  {
   "cell_type": "code",
   "execution_count": null,
   "id": "60cb4392",
   "metadata": {},
   "outputs": [],
   "source": [
    "# "
   ]
  }
 ],
 "metadata": {
  "kernelspec": {
   "display_name": "Python 3 (ipykernel)",
   "language": "python",
   "name": "python3"
  },
  "language_info": {
   "codemirror_mode": {
    "name": "ipython",
    "version": 3
   },
   "file_extension": ".py",
   "mimetype": "text/x-python",
   "name": "python",
   "nbconvert_exporter": "python",
   "pygments_lexer": "ipython3",
   "version": "3.9.13"
  }
 },
 "nbformat": 4,
 "nbformat_minor": 5
}
